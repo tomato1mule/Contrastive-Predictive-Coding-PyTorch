{
 "cells": [
  {
   "cell_type": "code",
   "execution_count": null,
   "metadata": {},
   "outputs": [],
   "source": [
    "import soundfile as sf\n",
    "import os \n",
    "import h5py\n",
    "\n",
    "import numpy as np\n",
    "from tqdm import tqdm"
   ]
  },
  {
   "cell_type": "code",
   "execution_count": null,
   "metadata": {},
   "outputs": [],
   "source": [
    "trainroot = 'LibriSpeech/train-clean-100/'\n",
    "testroot = 'LibriSpeech/train-clean-100/'"
   ]
  },
  {
   "cell_type": "code",
   "execution_count": null,
   "metadata": {},
   "outputs": [],
   "source": [
    "with open(trainroot+'train_split.txt', 'r') as f:\n",
    "    train_split = f.read().splitlines() "
   ]
  },
  {
   "cell_type": "code",
   "execution_count": null,
   "metadata": {},
   "outputs": [],
   "source": [
    "h5f = h5py.File('LibriSpeech/train-Librispeech.h5', 'w')\n",
    "\n",
    "for line in tqdm(train_split):\n",
    "    subdir, dirs, _ = line.split('-')\n",
    "    path = trainroot + subdir + '/' + dirs + '/' + line + '.flac'\n",
    "    data, sample_rate = sf.read(path) # sample rate = 16000 = 16kHz, data: 1-d ndarray\n",
    "    h5f.create_dataset(line, data = data)\n",
    "    \n",
    "h5f.close()"
   ]
  },
  {
   "cell_type": "code",
   "execution_count": null,
   "metadata": {},
   "outputs": [],
   "source": [
    "with open(testroot+'test_split.txt', 'r') as f:\n",
    "    test_split = f.read().splitlines()"
   ]
  },
  {
   "cell_type": "code",
   "execution_count": null,
   "metadata": {},
   "outputs": [],
   "source": [
    "h5f = h5py.File('LibriSpeech/test-Librispeech.h5', 'w')\n",
    "\n",
    "for line in tqdm(test_split):\n",
    "    subdir, dirs, _ = line.split('-')\n",
    "    path = testroot + subdir + '/' + dirs + '/' + line + '.flac'\n",
    "    data, sample_rate = sf.read(path) # sample rate = 16000 = 16kHz, data: 1-d ndarray\n",
    "    h5f.create_dataset(line, data = data)\n",
    "    \n",
    "h5f.close()"
   ]
  },
  {
   "cell_type": "code",
   "execution_count": null,
   "metadata": {},
   "outputs": [],
   "source": []
  }
 ],
 "metadata": {
  "kernelspec": {
   "display_name": "Python 3",
   "language": "python",
   "name": "python3"
  },
  "language_info": {
   "codemirror_mode": {
    "name": "ipython",
    "version": 3
   },
   "file_extension": ".py",
   "mimetype": "text/x-python",
   "name": "python",
   "nbconvert_exporter": "python",
   "pygments_lexer": "ipython3",
   "version": "3.8.10"
  }
 },
 "nbformat": 4,
 "nbformat_minor": 4
}

{
 "cells": [
  {
   "cell_type": "code",
   "execution_count": null,
   "metadata": {},
   "outputs": [],
   "source": [
    "import soundfile as sf\n",
    "import os \n",
    "import h5py\n",
    "\n",
    "import numpy as np\n",
    "from tqdm import tqdm"
   ]
  },
  {
   "cell_type": "code",
   "execution_count": null,
   "metadata": {},
   "outputs": [],
   "source": [
    "def flac2raw(root,filename):\n",
    "    h5f = h5py.File(filename, 'w')\n",
    "    \n",
    "    for rootdir in root:\n",
    "        for subdir, dirs, files in tqdm(os.walk(rootdir)): #finished @ 837 iter\n",
    "            for file in files:\n",
    "                if file.endswith('.flac'):\n",
    "                    fullpath = os.path.join(subdir, file)\n",
    "                    data, rate = sf.read(fullpath)\n",
    "                    h5f.create_dataset(file[:-5], data=data)\n",
    "                    \n",
    "    h5f.close"
   ]
  },
  {
   "cell_type": "code",
   "execution_count": null,
   "metadata": {},
   "outputs": [],
   "source": [
    "trainroot = ['LibriSpeech/train-clean-100/']\n",
    "devroot = ['LibriSpeech/dev-clean/']\n",
    "testroot = ['LibriSpeech/test-clean/']"
   ]
  },
  {
   "cell_type": "code",
   "execution_count": null,
   "metadata": {},
   "outputs": [],
   "source": [
    "# 837 iter, 5 min 31 sec, 46.4gb\n",
    "flac2raw(trainroot,'LibriSpeech/train-Librispeech.h5')"
   ]
  },
  {
   "cell_type": "code",
   "execution_count": null,
   "metadata": {},
   "outputs": [],
   "source": [
    "#138 iter, 9 sec, 2.5gb\n",
    "flac2raw(devroot,'LibriSpeech/dev-Librispeech.h5')"
   ]
  },
  {
   "cell_type": "code",
   "execution_count": null,
   "metadata": {},
   "outputs": [],
   "source": [
    "#128 iter, 19 sec, 2.5gb\n",
    "flac2raw(testroot,'LibriSpeech/test-Librispeech.h5')"
   ]
  },
  {
   "cell_type": "code",
   "execution_count": null,
   "metadata": {},
   "outputs": [],
   "source": []
  }
 ],
 "metadata": {
  "kernelspec": {
   "display_name": "Python 3",
   "language": "python",
   "name": "python3"
  },
  "language_info": {
   "codemirror_mode": {
    "name": "ipython",
    "version": 3
   },
   "file_extension": ".py",
   "mimetype": "text/x-python",
   "name": "python",
   "nbconvert_exporter": "python",
   "pygments_lexer": "ipython3",
   "version": "3.8.10"
  }
 },
 "nbformat": 4,
 "nbformat_minor": 4
}
